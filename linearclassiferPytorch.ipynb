{
  "nbformat": 4,
  "nbformat_minor": 0,
  "metadata": {
    "kernelspec": {
      "display_name": "Python 3",
      "language": "python",
      "name": "python3"
    },
    "language_info": {
      "codemirror_mode": {
        "name": "ipython",
        "version": 3
      },
      "file_extension": ".py",
      "mimetype": "text/x-python",
      "name": "python",
      "nbconvert_exporter": "python",
      "pygments_lexer": "ipython3",
      "version": "3.6.8"
    },
    "colab": {
      "name": "linearclassiferPytorch.ipynb",
      "provenance": [],
      "collapsed_sections": [],
      "include_colab_link": true
    },
    "accelerator": "TPU"
  },
  "cells": [
    {
      "cell_type": "markdown",
      "metadata": {
        "id": "view-in-github",
        "colab_type": "text"
      },
      "source": [
        "<a href=\"https://colab.research.google.com/github/rajan-blackboxes/crack-detection-in-buildings/blob/master/linearclassiferPytorch.ipynb\" target=\"_parent\"><img src=\"https://colab.research.google.com/assets/colab-badge.svg\" alt=\"Open In Colab\"/></a>"
      ]
    },
    {
      "cell_type": "markdown",
      "metadata": {
        "id": "PAYJIoGD5uDd",
        "colab_type": "text"
      },
      "source": [
        "<h1>Linear  Classifier with PyTorch </h1>"
      ]
    },
    {
      "cell_type": "markdown",
      "metadata": {
        "id": "z58vyPCa5uDe",
        "colab_type": "text"
      },
      "source": [
        "<p>Before you use a  Deep neural network to solve the classification problem,  it 's a good idea to try and solve the problem with the simplest method. You will need the dataset object from the previous section.\n",
        "In this lab, we solve the problem with a linear classifier.\n",
        " You will be asked to determine the maximum accuracy your linear classifier can achieve on the validation data for 5 epochs. We will give some free parameter values if you follow the instructions you will be able to answer the quiz. Just like the other labs there are several steps, but in this lab you will only be quizzed on the final result. </p>"
      ]
    },
    {
      "cell_type": "markdown",
      "metadata": {
        "id": "5ZBjuGo45uDf",
        "colab_type": "text"
      },
      "source": [
        "<h2>Table of Contents</h2>"
      ]
    },
    {
      "cell_type": "markdown",
      "metadata": {
        "id": "g6jlGKDW5uDg",
        "colab_type": "text"
      },
      "source": [
        "<div class=\"alert alert-block alert-info\" style=\"margin-top: 20px\">\n",
        "\n",
        "\n",
        "<ul>\n",
        "    <li><a href=\"#download_data\"> Download data</a></li>\n",
        "    <li><a href=\"#auxiliary\"> Imports and Auxiliary Functions </a></li>\n",
        "    <li><a href=\"#data_class\"> Dataset Class</a></li>\n",
        "    <li><a href=\"#trasform_Data_object\">Transform Object and Dataset Object</a></li>\n",
        "    <li><a href=\"#Question\">Question</a></li>\n",
        "</ul>\n",
        "<p>Estimated Time Needed: <strong>25 min</strong></p>\n",
        " </div>\n",
        "<hr>\n"
      ]
    },
    {
      "cell_type": "markdown",
      "metadata": {
        "id": "vBsaW3Lc5uDi",
        "colab_type": "text"
      },
      "source": [
        "<h2 id=\"download_data\">Download Data</h2>"
      ]
    },
    {
      "cell_type": "markdown",
      "metadata": {
        "id": "s6H_3Tg_5uDj",
        "colab_type": "text"
      },
      "source": [
        "In this section, you are going to download the data from IBM object storage using <b>wget</b>, then unzip them.  <b>wget</b> is a command the retrieves content from web servers, in this case its a zip file. Locally we store the data in the directory  <b>/resources/data</b> . The <b>-p</b> creates the entire directory tree up to the given directory."
      ]
    },
    {
      "cell_type": "markdown",
      "metadata": {
        "id": "TO3dBUj75uDk",
        "colab_type": "text"
      },
      "source": [
        "First, we download the file that contains the images, if you dint do this in your first lab uncomment:"
      ]
    },
    {
      "cell_type": "code",
      "metadata": {
        "id": "bbTPs2aT5uDl",
        "colab_type": "code",
        "outputId": "1805724c-ef25-4f99-8360-3e483c4592a0",
        "colab": {
          "base_uri": "https://localhost:8080/",
          "height": 224
        }
      },
      "source": [
        "!mkdir /content/data\n",
        "!wget https://s3-api.us-geo.objectstorage.softlayer.net/cf-courses-data/CognitiveClass/DL0321EN/data/images/concrete_crack_images_for_classification.zip -P /content/data"
      ],
      "execution_count": 1,
      "outputs": [
        {
          "output_type": "stream",
          "text": [
            "--2020-05-18 08:58:15--  https://s3-api.us-geo.objectstorage.softlayer.net/cf-courses-data/CognitiveClass/DL0321EN/data/images/concrete_crack_images_for_classification.zip\n",
            "Resolving s3-api.us-geo.objectstorage.softlayer.net (s3-api.us-geo.objectstorage.softlayer.net)... 67.228.254.196\n",
            "Connecting to s3-api.us-geo.objectstorage.softlayer.net (s3-api.us-geo.objectstorage.softlayer.net)|67.228.254.196|:443... connected.\n",
            "HTTP request sent, awaiting response... 200 OK\n",
            "Length: 245259777 (234M) [application/zip]\n",
            "Saving to: ‘/content/data/concrete_crack_images_for_classification.zip’\n",
            "\n",
            "concrete_crack_imag 100%[===================>] 233.90M  45.6MB/s    in 5.2s    \n",
            "\n",
            "2020-05-18 08:58:21 (44.9 MB/s) - ‘/content/data/concrete_crack_images_for_classification.zip’ saved [245259777/245259777]\n",
            "\n"
          ],
          "name": "stdout"
        }
      ]
    },
    {
      "cell_type": "markdown",
      "metadata": {
        "id": "vhEEgCO85uDw",
        "colab_type": "text"
      },
      "source": [
        "We then unzip the file, this ma take a while:"
      ]
    },
    {
      "cell_type": "code",
      "metadata": {
        "id": "EnfY8R7e5uDy",
        "colab_type": "code",
        "colab": {}
      },
      "source": [
        "!unzip -q  /content/data/concrete_crack_images_for_classification.zip -d  /content/data"
      ],
      "execution_count": 0,
      "outputs": []
    },
    {
      "cell_type": "markdown",
      "metadata": {
        "id": "C9G8qiOJ5uD8",
        "colab_type": "text"
      },
      "source": [
        "We then download the files that contain the negative images:"
      ]
    },
    {
      "cell_type": "markdown",
      "metadata": {
        "id": "Wsk0VAYj5uD-",
        "colab_type": "text"
      },
      "source": [
        "<h2 id=\"auxiliary\">Imports and Auxiliary Functions</h2>"
      ]
    },
    {
      "cell_type": "markdown",
      "metadata": {
        "id": "DCQyhysw5uEA",
        "colab_type": "text"
      },
      "source": [
        "The following are the libraries we are going to use for this lab:"
      ]
    },
    {
      "cell_type": "code",
      "metadata": {
        "id": "sN6af2fz5uEC",
        "colab_type": "code",
        "colab": {}
      },
      "source": [
        "from PIL import Image\n",
        "import matplotlib.pyplot as plt\n",
        "import os\n",
        "import glob\n",
        "import torch\n",
        "from torch.utils.data import Dataset, DataLoader\n",
        "import torchvision.transforms as transforms\n",
        "import torch.nn as nn\n",
        "from torch import optim "
      ],
      "execution_count": 0,
      "outputs": []
    },
    {
      "cell_type": "markdown",
      "metadata": {
        "id": "-6c-11pi5uEM",
        "colab_type": "text"
      },
      "source": [
        "<h2 id=\"data_class\">Dataset Class</h2>"
      ]
    },
    {
      "cell_type": "markdown",
      "metadata": {
        "id": "vewjnxq_5uEO",
        "colab_type": "text"
      },
      "source": [
        "In this section, we will use the previous code to build a dataset class. As before, make sure the even samples are positive, and the odd samples are negative.  If the parameter <code>train</code> is set to <code>True</code>, use the first 30 000  samples as training data; otherwise, the remaining samples will be used as validation data. Do not forget to sort your files so they are in the same order.  "
      ]
    },
    {
      "cell_type": "code",
      "metadata": {
        "id": "SFNscWk55uEP",
        "colab_type": "code",
        "colab": {}
      },
      "source": [
        "class Dataset(Dataset):\n",
        "\n",
        "    # Constructor\n",
        "    def __init__(self,transform=None,train=True):\n",
        "        directory=\"/content/data\"\n",
        "        positive=\"Positive\"\n",
        "        negative=\"Negative\"\n",
        "\n",
        "        positive_file_path=os.path.join(directory,positive)\n",
        "        negative_file_path=os.path.join(directory,negative)\n",
        "        positive_files=[os.path.join(positive_file_path,file) for file in  os.listdir(positive_file_path) if file.endswith(\".jpg\")]\n",
        "        positive_files.sort()\n",
        "        negative_files=[os.path.join(negative_file_path,file) for file in  os.listdir(negative_file_path) if file.endswith(\".jpg\")]\n",
        "        negative_files.sort()\n",
        "        number_of_samples=len(positive_files)+len(negative_files)\n",
        "        self.all_files=[None]*number_of_samples\n",
        "        self.all_files[::2]=positive_files\n",
        "        self.all_files[1::2]=negative_files \n",
        "        # The transform is goint to be used on image\n",
        "        self.transform = transform\n",
        "        #torch.LongTensor\n",
        "        self.Y=torch.zeros([number_of_samples]).type(torch.LongTensor)\n",
        "        self.Y[::2]=1\n",
        "        self.Y[1::2]=0\n",
        "        \n",
        "        if train:\n",
        "            self.all_files=self.all_files[0:30000]\n",
        "            self.Y=self.Y[0:30000]\n",
        "            self.len=len(self.all_files)\n",
        "        else:\n",
        "            self.all_files=self.all_files[30000:]\n",
        "            self.Y=self.Y[30000:]\n",
        "            self.len=len(self.all_files)    \n",
        "       \n",
        "    # Get the length\n",
        "    def __len__(self):\n",
        "        return self.len\n",
        "    \n",
        "    # Getter\n",
        "    def __getitem__(self, idx):\n",
        "        \n",
        "        \n",
        "        image=Image.open(self.all_files[idx])\n",
        "        y=self.Y[idx]\n",
        "          \n",
        "        \n",
        "        # If there is any transform method, apply it onto the image\n",
        "        if self.transform:\n",
        "            image = self.transform(image)\n",
        "\n",
        "        return image, y"
      ],
      "execution_count": 0,
      "outputs": []
    },
    {
      "cell_type": "markdown",
      "metadata": {
        "id": "vpnQ4Z6K5uEY",
        "colab_type": "text"
      },
      "source": [
        "<h2 id=\"trasform_Data_object\">Transform Object and Dataset Object</h2>"
      ]
    },
    {
      "cell_type": "markdown",
      "metadata": {
        "id": "y8n5Rjgx5uEa",
        "colab_type": "text"
      },
      "source": [
        "Create a transform object, that uses the <code>Compose</code> function. First use the transform <code>ToTensor()</code> and followed by <code>Normalize(mean, std)</code>. The value for <code> mean</code> and <code>std</code> are provided for you."
      ]
    },
    {
      "cell_type": "code",
      "metadata": {
        "id": "DxL0Uogo5uEc",
        "colab_type": "code",
        "colab": {}
      },
      "source": [
        "mean = [0.485, 0.456, 0.406]\n",
        "std = [0.229, 0.224, 0.225]\n",
        "# transforms.ToTensor()\n",
        "#transforms.Normalize(mean, std)\n",
        "#transforms.Compose([])\n",
        "\n",
        "transform =transforms.Compose([\n",
        "                               transforms.RandomHorizontalFlip(p=0.5),\n",
        "                               transforms.RandomVerticalFlip(p=0.5),\n",
        "                               transforms.RandomPerspective(distortion_scale=0.5, p=0.5, interpolation=3, fill=0),\n",
        "                               transforms.ToTensor(),\n",
        "                               transforms.Normalize(mean, std),\n",
        "                               ])\n"
      ],
      "execution_count": 0,
      "outputs": []
    },
    {
      "cell_type": "markdown",
      "metadata": {
        "id": "mq74xyCC5uEm",
        "colab_type": "text"
      },
      "source": [
        "Create object for the training data  <code>dataset_train</code> and validation <code>dataset_val</code>. Use the transform object to convert the images to tensors using the transform object:"
      ]
    },
    {
      "cell_type": "code",
      "metadata": {
        "id": "ljBft5W75uEn",
        "colab_type": "code",
        "colab": {}
      },
      "source": [
        "dataset_train=Dataset(transform=transform,train=True)\n",
        "dataset_val=Dataset(transform=transform,train=False)"
      ],
      "execution_count": 0,
      "outputs": []
    },
    {
      "cell_type": "markdown",
      "metadata": {
        "id": "bPfN0YAz5uEt",
        "colab_type": "text"
      },
      "source": [
        "We  can find the shape of the image:"
      ]
    },
    {
      "cell_type": "code",
      "metadata": {
        "id": "rzbrgok15uEu",
        "colab_type": "code",
        "outputId": "07484dcb-e1e9-477f-fd88-c578639d0aa6",
        "colab": {
          "base_uri": "https://localhost:8080/",
          "height": 34
        }
      },
      "source": [
        "dataset_train[0][0].shape"
      ],
      "execution_count": 8,
      "outputs": [
        {
          "output_type": "execute_result",
          "data": {
            "text/plain": [
              "torch.Size([3, 227, 227])"
            ]
          },
          "metadata": {
            "tags": []
          },
          "execution_count": 8
        }
      ]
    },
    {
      "cell_type": "markdown",
      "metadata": {
        "id": "cOuFwp-c5uE5",
        "colab_type": "text"
      },
      "source": [
        "We see that it's a color image with three channels:"
      ]
    },
    {
      "cell_type": "code",
      "metadata": {
        "id": "a57dc1y-5uE7",
        "colab_type": "code",
        "outputId": "d3a6c686-6fcc-485e-c642-2878b8fecff0",
        "colab": {
          "base_uri": "https://localhost:8080/",
          "height": 34
        }
      },
      "source": [
        "size_of_image=3*227*227\n",
        "size_of_image"
      ],
      "execution_count": 12,
      "outputs": [
        {
          "output_type": "execute_result",
          "data": {
            "text/plain": [
              "154587"
            ]
          },
          "metadata": {
            "tags": []
          },
          "execution_count": 12
        }
      ]
    },
    {
      "cell_type": "markdown",
      "metadata": {
        "id": "382SYzHW5uFF",
        "colab_type": "text"
      },
      "source": [
        "<h2 id=\"Question\"> Question <h2>"
      ]
    },
    {
      "cell_type": "markdown",
      "metadata": {
        "id": "sygEye2y5uFG",
        "colab_type": "text"
      },
      "source": [
        "<b> Create a custom module for Softmax for two classes,called model. The input size should be the <code>size_of_image</code>, you should record the maximum accuracy achieved on the validation data for the different epochs. For example if the 5 epochs the accuracy was 0.5, 0.2, 0.64,0.77, 0.66 you would select 0.77.</b>"
      ]
    },
    {
      "cell_type": "markdown",
      "metadata": {
        "id": "p5LUlJtg5uFH",
        "colab_type": "text"
      },
      "source": [
        "Train the model with the following free parameter values:"
      ]
    },
    {
      "cell_type": "markdown",
      "metadata": {
        "id": "zTrw_4075uFI",
        "colab_type": "text"
      },
      "source": [
        "<b>Parameter Values</b>\n",
        "   <li>learning rate:0.1 </li>\n",
        "   <li>momentum term:0.1 </li>\n",
        "   <li>batch size training:1000</li>\n",
        "   <li>Loss function:Cross Entropy Loss </li>\n",
        "   <li>epochs:5</li>\n",
        "   <li>set: torch.manual_seed(0)</li>"
      ]
    },
    {
      "cell_type": "code",
      "metadata": {
        "id": "ZvHQf4ac5uFJ",
        "colab_type": "code",
        "outputId": "658dcb05-c89d-43cd-8377-9dd37c8a038b",
        "colab": {
          "base_uri": "https://localhost:8080/",
          "height": 34
        }
      },
      "source": [
        "torch.manual_seed(0)"
      ],
      "execution_count": 9,
      "outputs": [
        {
          "output_type": "execute_result",
          "data": {
            "text/plain": [
              "<torch._C.Generator at 0x7f5ab37824d0>"
            ]
          },
          "metadata": {
            "tags": []
          },
          "execution_count": 9
        }
      ]
    },
    {
      "cell_type": "markdown",
      "metadata": {
        "id": "J6aGDUTr5uFP",
        "colab_type": "text"
      },
      "source": [
        "<b>Custom Module:</b>"
      ]
    },
    {
      "cell_type": "code",
      "metadata": {
        "id": "87x8mqtI5uFQ",
        "colab_type": "code",
        "colab": {}
      },
      "source": [
        "class Softmax(nn.Module):\n",
        "    def __init__(self, in_size, out_size):\n",
        "        super(Softmax, self).__init__()\n",
        "        self.in_size = in_size\n",
        "        self.out_size = out_size\n",
        "        self.fc1 = nn.Linear(in_size, out_size)\n",
        "    def forward(self, x):\n",
        "        x = x.view(-1, 227*227*3)\n",
        "        out = self.fc1(x)\n",
        "        return out"
      ],
      "execution_count": 0,
      "outputs": []
    },
    {
      "cell_type": "markdown",
      "metadata": {
        "id": "LlBR0Nef5uFW",
        "colab_type": "text"
      },
      "source": [
        "<b>Model Object:</b>"
      ]
    },
    {
      "cell_type": "code",
      "metadata": {
        "id": "glxElVt95uFX",
        "colab_type": "code",
        "colab": {}
      },
      "source": [
        "model = Softmax(size_of_image, 2)"
      ],
      "execution_count": 0,
      "outputs": []
    },
    {
      "cell_type": "markdown",
      "metadata": {
        "id": "EW8UjGZ05uFc",
        "colab_type": "text"
      },
      "source": [
        "<b>Optimizer:</b>"
      ]
    },
    {
      "cell_type": "code",
      "metadata": {
        "id": "Bb6hbnKy5uFd",
        "colab_type": "code",
        "colab": {}
      },
      "source": [
        "optimizer = optim.Adam(model.parameters(), lr=0.001) "
      ],
      "execution_count": 0,
      "outputs": []
    },
    {
      "cell_type": "markdown",
      "metadata": {
        "id": "hIVVrDni5uFj",
        "colab_type": "text"
      },
      "source": [
        "<b>Criterion:</b>"
      ]
    },
    {
      "cell_type": "code",
      "metadata": {
        "id": "CxzPyAyR5uFk",
        "colab_type": "code",
        "colab": {}
      },
      "source": [
        "criterion = nn.CrossEntropyLoss()"
      ],
      "execution_count": 0,
      "outputs": []
    },
    {
      "cell_type": "markdown",
      "metadata": {
        "id": "2BXHOiE_5uFp",
        "colab_type": "text"
      },
      "source": [
        "<b>Data Loader Training and Validation:</b>"
      ]
    },
    {
      "cell_type": "code",
      "metadata": {
        "id": "8XbvaEd85uFq",
        "colab_type": "code",
        "colab": {}
      },
      "source": [
        "train_loader = torch.utils.data.DataLoader(dataset=dataset_train, batch_size=1000, shuffle=True)\n",
        "validation_loader = torch.utils.data.DataLoader(dataset=dataset_val, batch_size=20)"
      ],
      "execution_count": 0,
      "outputs": []
    },
    {
      "cell_type": "markdown",
      "metadata": {
        "id": "eesH1qpH5uFv",
        "colab_type": "text"
      },
      "source": [
        "<b>Train Model with 5 epochs, should take 35 minutes: </b>"
      ]
    },
    {
      "cell_type": "code",
      "metadata": {
        "id": "NnZ-K43Z5uFw",
        "colab_type": "code",
        "outputId": "723e2cfb-f83e-46ab-a5fd-236be36ff600",
        "colab": {
          "base_uri": "https://localhost:8080/",
          "height": 102
        }
      },
      "source": [
        "n_epochs = 5\n",
        "for epoch in range(n_epochs):\n",
        "  loss = 0.0\n",
        "  for i, data in enumerate(train_loader, 0):\n",
        "    inputs, labels = data\n",
        "    optimizer.zero_grad()\n",
        "    outputs = model(inputs)\n",
        "    loss = criterion(outputs, labels)\n",
        "    loss.backward()\n",
        "    optimizer.step()\n",
        "\n",
        "    loss += loss.item()\n",
        "    if i%1000 == 0:\n",
        "      print(\"epoch: {} loss: {}\".format(epoch, loss))\n",
        "      loss = 0.0"
      ],
      "execution_count": 18,
      "outputs": [
        {
          "output_type": "stream",
          "text": [
            "epoch: 0 loss: 6.384079933166504\n",
            "epoch: 1 loss: 7.938104629516602\n",
            "epoch: 2 loss: 6.821098327636719\n",
            "epoch: 3 loss: 3.422136068344116\n",
            "epoch: 4 loss: 7.317630290985107\n"
          ],
          "name": "stdout"
        }
      ]
    },
    {
      "cell_type": "code",
      "metadata": {
        "id": "Av_QL6sCHb2y",
        "colab_type": "code",
        "colab": {
          "base_uri": "https://localhost:8080/",
          "height": 34
        },
        "outputId": "01a2e68d-9c6c-4b21-a8c4-d676dd1760ff"
      },
      "source": [
        "correct = 0\n",
        "total = 0\n",
        "with torch.no_grad():\n",
        "    for data in validation_loader:\n",
        "      images, labels = data\n",
        "      outputs = model(images)\n",
        "      _, predicted = torch.max(outputs.data, 1)\n",
        "      total += labels.size(0)\n",
        "      correct += (predicted == labels).sum().item()\n",
        "\n",
        "print('Accuracy: {}'.format(100 * correct / total))"
      ],
      "execution_count": 26,
      "outputs": [
        {
          "output_type": "stream",
          "text": [
            "Accuracy: 79.24\n"
          ],
          "name": "stdout"
        }
      ]
    },
    {
      "cell_type": "code",
      "metadata": {
        "id": "NWG4mtQxHAtI",
        "colab_type": "code",
        "colab": {}
      },
      "source": [
        ""
      ],
      "execution_count": 0,
      "outputs": []
    }
  ]
}